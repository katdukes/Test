{
  "nbformat": 4,
  "nbformat_minor": 0,
  "metadata": {
    "colab": {
      "provenance": [],
      "authorship_tag": "ABX9TyN1WC2jxn5rtFL/2OeOT1F/",
      "include_colab_link": true
    },
    "kernelspec": {
      "name": "python3",
      "display_name": "Python 3"
    },
    "language_info": {
      "name": "python"
    }
  },
  "cells": [
    {
      "cell_type": "markdown",
      "metadata": {
        "id": "view-in-github",
        "colab_type": "text"
      },
      "source": [
        "<a href=\"https://colab.research.google.com/github/katdukes/Test/blob/main/In_Class_Assignments.ipynb\" target=\"_parent\"><img src=\"https://colab.research.google.com/assets/colab-badge.svg\" alt=\"Open In Colab\"/></a>"
      ]
    },
    {
      "cell_type": "code",
      "execution_count": null,
      "metadata": {
        "colab": {
          "base_uri": "https://localhost:8080/"
        },
        "id": "8ImKRJKRtoGr",
        "outputId": "e0e81867-4b15-43c6-e843-af88ccd65873"
      },
      "outputs": [
        {
          "output_type": "stream",
          "name": "stdout",
          "text": [
            "Please provide the radius: 5\n",
            "Please provide the height: 6\n",
            "Area of cylinder: 345.4 sq.ft\n"
          ]
        }
      ],
      "source": [
        "# Assignment 1\n",
        "pi = 3.14\n",
        "radius = float(input('Please provide the radius: '))\n",
        "height = float(input('Please provide the height: '))\n",
        "\n",
        "area = 2 * pi * radius **2 + 2 * pi * radius * height\n",
        "print(f'Area of cylinder: {area} sq.ft')"
      ]
    },
    {
      "cell_type": "code",
      "source": [
        "# Assignment 2\n",
        "number_1 = float(input('Please provide the first number: '))\n",
        "number_2 = float(input('Please provide the second number: '))\n",
        "symbol = input('please provide a symbol: ')\n",
        "\n",
        "if symbol == '+':\n",
        "    print(f'{number_1} + {number_2} = {number_1 + number_2}')\n",
        "elif symbol == '-':\n",
        "    print(f'{number_1} - {number_2} = {number_1 - number_2}')\n",
        "elif symbol == '*':\n",
        "    print(f'{number_1} * {number_2} = {number_1 * number_2}')\n",
        "elif symbol == '/':\n",
        "    print(f'{number_1} / {number_2} = {number_1 / number_2}')\n",
        "elif symbol == '%':\n",
        "    print(f'{number_1} % {number_2} = {number_1 % number_2}')\n",
        "elif symbol == '**':\n",
        "    print(f'{number_1} ** {number_2} = {number_1 ** number_2}')\n",
        "elif symbol == '//':\n",
        "    print(f'{number_1} // {number_2} = {number_1 // number_2}')\n",
        "else:\n",
        "    print('Invalid symbol')"
      ],
      "metadata": {
        "colab": {
          "base_uri": "https://localhost:8080/"
        },
        "id": "pbLcit2kr1Pl",
        "outputId": "c4467897-25f2-49ff-b28e-0b1c540c40b1"
      },
      "execution_count": null,
      "outputs": [
        {
          "output_type": "stream",
          "name": "stdout",
          "text": [
            "Please provide the first number: 8\n",
            "Please provide the second number: 7\n",
            "please provide a symbol: *\n",
            "8.0 * 7.0 = 56.0\n"
          ]
        }
      ]
    },
    {
      "cell_type": "code",
      "source": [
        "# Assignment 3\n",
        "for number_hours in range(1, 9):\n",
        "  fee = 5 + 2.5 * number_hours\n",
        "  if fee < 10:\n",
        "    fee = 10.0\n",
        "  elif fee > 20:\n",
        "    fee = 20.0\n",
        "  print(number_hours, fee)"
      ],
      "metadata": {
        "id": "wiAy5ZJ_xr_L",
        "colab": {
          "base_uri": "https://localhost:8080/"
        },
        "outputId": "db2bcbc4-97e7-4b49-bb8d-1f642f2a3b5b"
      },
      "execution_count": 4,
      "outputs": [
        {
          "output_type": "stream",
          "name": "stdout",
          "text": [
            "1 10.0\n",
            "2 10.0\n",
            "3 12.5\n",
            "4 15.0\n",
            "5 17.5\n",
            "6 20.0\n",
            "7 20.0\n",
            "8 20.0\n"
          ]
        }
      ]
    },
    {
      "cell_type": "code",
      "source": [
        "# Assignment 4\n",
        "for admoney in range(0, 201, 25):\n",
        "  revenue = (20 + 2 * round(admoney ** .5)) * 10\n",
        "  costs = 200 + admoney\n",
        "  profit = revenue - costs\n",
        "  print(admoney, profit)"
      ],
      "metadata": {
        "colab": {
          "base_uri": "https://localhost:8080/"
        },
        "id": "y7C9f04Gc-kR",
        "outputId": "0ed0cb20-632b-4ed1-a925-e9bf7ce6ecfd"
      },
      "execution_count": 8,
      "outputs": [
        {
          "output_type": "stream",
          "name": "stdout",
          "text": [
            "0 0\n",
            "25 75\n",
            "50 90\n",
            "75 105\n",
            "100 100\n",
            "125 95\n",
            "150 90\n",
            "175 85\n",
            "200 80\n"
          ]
        }
      ]
    }
  ]
}
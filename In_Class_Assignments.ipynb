{
  "nbformat": 4,
  "nbformat_minor": 0,
  "metadata": {
    "colab": {
      "provenance": [],
      "include_colab_link": true
    },
    "kernelspec": {
      "name": "python3",
      "display_name": "Python 3"
    },
    "language_info": {
      "name": "python"
    }
  },
  "cells": [
    {
      "cell_type": "markdown",
      "metadata": {
        "id": "view-in-github",
        "colab_type": "text"
      },
      "source": [
        "<a href=\"https://colab.research.google.com/github/katdukes/Test/blob/main/In_Class_Assignments.ipynb\" target=\"_parent\"><img src=\"https://colab.research.google.com/assets/colab-badge.svg\" alt=\"Open In Colab\"/></a>"
      ]
    },
    {
      "cell_type": "code",
      "execution_count": null,
      "metadata": {
        "colab": {
          "base_uri": "https://localhost:8080/"
        },
        "id": "8ImKRJKRtoGr",
        "outputId": "e0e81867-4b15-43c6-e843-af88ccd65873"
      },
      "outputs": [
        {
          "output_type": "stream",
          "name": "stdout",
          "text": [
            "Please provide the radius: 5\n",
            "Please provide the height: 6\n",
            "Area of cylinder: 345.4 sq.ft\n"
          ]
        }
      ],
      "source": [
        "# Assignment 1\n",
        "pi = 3.14\n",
        "radius = float(input('Please provide the radius: '))\n",
        "height = float(input('Please provide the height: '))\n",
        "\n",
        "area = 2 * pi * radius **2 + 2 * pi * radius * height\n",
        "print(f'Area of cylinder: {area} sq.ft')"
      ]
    },
    {
      "cell_type": "code",
      "source": [
        "# Assignment 2\n",
        "number_1 = float(input('Please provide the first number: '))\n",
        "number_2 = float(input('Please provide the second number: '))\n",
        "symbol = input('please provide a symbol: ')\n",
        "\n",
        "if symbol == '+':\n",
        "    print(f'{number_1} + {number_2} = {number_1 + number_2}')\n",
        "elif symbol == '-':\n",
        "    print(f'{number_1} - {number_2} = {number_1 - number_2}')\n",
        "elif symbol == '*':\n",
        "    print(f'{number_1} * {number_2} = {number_1 * number_2}')\n",
        "elif symbol == '/':\n",
        "    print(f'{number_1} / {number_2} = {number_1 / number_2}')\n",
        "elif symbol == '%':\n",
        "    print(f'{number_1} % {number_2} = {number_1 % number_2}')\n",
        "elif symbol == '**':\n",
        "    print(f'{number_1} ** {number_2} = {number_1 ** number_2}')\n",
        "elif symbol == '//':\n",
        "    print(f'{number_1} // {number_2} = {number_1 // number_2}')\n",
        "else:\n",
        "    print('Invalid symbol')"
      ],
      "metadata": {
        "colab": {
          "base_uri": "https://localhost:8080/"
        },
        "id": "pbLcit2kr1Pl",
        "outputId": "c4467897-25f2-49ff-b28e-0b1c540c40b1"
      },
      "execution_count": null,
      "outputs": [
        {
          "output_type": "stream",
          "name": "stdout",
          "text": [
            "Please provide the first number: 8\n",
            "Please provide the second number: 7\n",
            "please provide a symbol: *\n",
            "8.0 * 7.0 = 56.0\n"
          ]
        }
      ]
    },
    {
      "cell_type": "code",
      "source": [
        "# Assignment 3\n",
        "for number_hours in range(1, 9):\n",
        "  fee = 5 + 2.5 * number_hours\n",
        "  if fee < 10:\n",
        "    fee = 10.0\n",
        "  elif fee > 20:\n",
        "    fee = 20.0\n",
        "  print(number_hours, fee)"
      ],
      "metadata": {
        "id": "wiAy5ZJ_xr_L",
        "colab": {
          "base_uri": "https://localhost:8080/"
        },
        "outputId": "db2bcbc4-97e7-4b49-bb8d-1f642f2a3b5b"
      },
      "execution_count": null,
      "outputs": [
        {
          "output_type": "stream",
          "name": "stdout",
          "text": [
            "1 10.0\n",
            "2 10.0\n",
            "3 12.5\n",
            "4 15.0\n",
            "5 17.5\n",
            "6 20.0\n",
            "7 20.0\n",
            "8 20.0\n"
          ]
        }
      ]
    },
    {
      "cell_type": "code",
      "source": [
        "# Assignment 4\n",
        "for admoney in range(0, 201, 25):\n",
        "  revenue = (20 + 2 * round(admoney ** .5)) * 10\n",
        "  costs = 200 + admoney\n",
        "  profit = revenue - costs\n",
        "  print(admoney, profit)"
      ],
      "metadata": {
        "colab": {
          "base_uri": "https://localhost:8080/"
        },
        "id": "y7C9f04Gc-kR",
        "outputId": "0ed0cb20-632b-4ed1-a925-e9bf7ce6ecfd"
      },
      "execution_count": null,
      "outputs": [
        {
          "output_type": "stream",
          "name": "stdout",
          "text": [
            "0 0\n",
            "25 75\n",
            "50 90\n",
            "75 105\n",
            "100 100\n",
            "125 95\n",
            "150 90\n",
            "175 85\n",
            "200 80\n"
          ]
        }
      ]
    },
    {
      "cell_type": "code",
      "source": [
        "# Assignment 5\n",
        "import random\n",
        "\n",
        "play = input('do you want to play a game of rock paper scissors (yes/no)? ')\n",
        "\n",
        "while play == 'yes':\n",
        "  player1 = input('player , please select rock, paper, or scissors: ').capitalize()\n",
        "  player2 = random.choice(['rock', 'paper', 'scissors']).capitalize()\n",
        "\n",
        "\n",
        "  print(f'player chooses {player1}; computer chooses {player2}')\n",
        "\n",
        "  if player1 == player2:\n",
        "    print('it is a tie')\n",
        "  elif player1 == 'rock' and player2 == 'scissors':\n",
        "    print('player wins')\n",
        "  elif player1 == 'paper' and player2 == 'rock':\n",
        "    print('player wins')\n",
        "  elif player1 == 'scissors' and player2 == 'paper':\n",
        "    print('player wins')\n",
        "  else:\n",
        "    print('computer wins')\n",
        "\n",
        "  play = input('do you want to play another game of rock paper scissors (yes/no)? ')\n",
        "print('Thanks for playing')"
      ],
      "metadata": {
        "colab": {
          "base_uri": "https://localhost:8080/"
        },
        "id": "moK7lD1NHVLm",
        "outputId": "9462bb17-4371-4906-87eb-abc1d6c1f8ae"
      },
      "execution_count": null,
      "outputs": [
        {
          "name": "stdout",
          "output_type": "stream",
          "text": [
            "do you want to play a game of rock paper scissors (yes/no)? yes\n"
          ]
        }
      ]
    },
    {
      "cell_type": "code",
      "source": [
        "# Assignment 6\n",
        "List = []\n",
        "\n",
        "num = float(input(\"please provide a number: \"))\n",
        "\n",
        "while num != 0:\n",
        "  List.append(num)\n",
        "  num = float(input(\"please provide a number: \"))\n",
        "List.sort(reverse=True)\n",
        "print(List)"
      ],
      "metadata": {
        "colab": {
          "base_uri": "https://localhost:8080/"
        },
        "id": "s2-tbgRDPDdP",
        "outputId": "f791d21c-793d-4f74-f214-74c67205dfaf"
      },
      "execution_count": null,
      "outputs": [
        {
          "output_type": "stream",
          "name": "stdout",
          "text": [
            "please provide a number: 3\n",
            "please provide a number: 2\n",
            "please provide a number: 5\n",
            "please provide a number: 6\n",
            "please provide a number: 2\n",
            "please provide a number: 0\n",
            "[6.0, 5.0, 3.0, 2.0, 2.0]\n"
          ]
        }
      ]
    },
    {
      "cell_type": "code",
      "source": [
        "# Assignment 7\n",
        "months = {}\n",
        "names = ['Jan', 'Feb', 'Mar', 'Apr', 'May', 'Jun', 'Jul', 'Aug', 'Sep', 'Oct', 'Nov', 'Dec']\n",
        "numbers = [1, 2, 3, 4, 5, 6, 7, 8, 9, 10, 11, 12]\n",
        "\n",
        "for idx in range(len(numbers)):\n",
        "  months[numbers[idx]] = names[idx]\n",
        "months"
      ],
      "metadata": {
        "colab": {
          "base_uri": "https://localhost:8080/"
        },
        "id": "A9I_UzfCx9Q7",
        "outputId": "6ca5ad9a-f6d3-48da-ef6f-4c6404413815"
      },
      "execution_count": null,
      "outputs": [
        {
          "output_type": "execute_result",
          "data": {
            "text/plain": [
              "{1: 'Jan',\n",
              " 2: 'Feb',\n",
              " 3: 'Mar',\n",
              " 4: 'Apr',\n",
              " 5: 'May',\n",
              " 6: 'Jun',\n",
              " 7: 'Jul',\n",
              " 8: 'Aug',\n",
              " 9: 'Sep',\n",
              " 10: 'Oct',\n",
              " 11: 'Nov',\n",
              " 12: 'Dec'}"
            ]
          },
          "metadata": {},
          "execution_count": 13
        }
      ]
    },
    {
      "cell_type": "code",
      "source": [
        "months = {}\n",
        "names = ['Jan', 'Feb', 'Mar', 'Apr', 'May', 'Jun', 'Jul', 'Aug', 'Sep', 'Oct', 'Nov', 'Dec']\n",
        "numbers = [1, 2, 3, 4, 5, 6, 7, 8, 9, 10, 11, 12]\n",
        "\n",
        "for num in numbers:\n",
        "  months[num] = names[num - 1]\n",
        "months"
      ],
      "metadata": {
        "colab": {
          "base_uri": "https://localhost:8080/"
        },
        "id": "6eWUgmy62Zql",
        "outputId": "9450f366-101d-4168-be05-a1e67b36a98b"
      },
      "execution_count": null,
      "outputs": [
        {
          "output_type": "execute_result",
          "data": {
            "text/plain": [
              "{1: 'Jan',\n",
              " 2: 'Feb',\n",
              " 3: 'Mar',\n",
              " 4: 'Apr',\n",
              " 5: 'May',\n",
              " 6: 'Jun',\n",
              " 7: 'Jul',\n",
              " 8: 'Aug',\n",
              " 9: 'Sep',\n",
              " 10: 'Oct',\n",
              " 11: 'Nov',\n",
              " 12: 'Dec'}"
            ]
          },
          "metadata": {},
          "execution_count": 16
        }
      ]
    },
    {
      "cell_type": "code",
      "source": [
        "# Assignment 8\n",
        "counts = {}\n",
        "\n",
        "while len(counts) < 5:\n",
        "  key = input('Give a string: ')\n",
        "\n",
        "  if key not in counts:\n",
        "    counts[key] = 1\n",
        "  else:\n",
        "    counts[key] += 1\n",
        "counts"
      ],
      "metadata": {
        "colab": {
          "base_uri": "https://localhost:8080/"
        },
        "id": "_hc5RhaW4efJ",
        "outputId": "8ef8a266-d24d-4450-ec80-01c0dafd1c29"
      },
      "execution_count": null,
      "outputs": [
        {
          "name": "stdout",
          "output_type": "stream",
          "text": [
            "Give a string: a\n",
            "Give a string: b\n",
            "Give a string: c\n",
            "Give a string: a\n",
            "Give a string: a\n",
            "Give a string: b\n",
            "Give a string: c\n",
            "Give a string: e\n",
            "Give a string: d\n"
          ]
        },
        {
          "output_type": "execute_result",
          "data": {
            "text/plain": [
              "{'a': 3, 'b': 2, 'c': 2, 'e': 1, 'd': 1}"
            ]
          },
          "metadata": {},
          "execution_count": 17
        }
      ]
    },
    {
      "cell_type": "code",
      "source": [
        "# Assignment 9\n",
        "def calcFee(hours):\n",
        "  fee = 5 + 2.5 * hours\n",
        "  if fee < 10:\n",
        "    fee = 10.0\n",
        "  elif fee > 20:\n",
        "    fee = 20.0\n",
        "  print(f'Fee: {fee}$')\n",
        "\n",
        "hours_parked = int(input('Please input the number of hours parked: '))\n",
        "calcFee(hours_parked)"
      ],
      "metadata": {
        "colab": {
          "base_uri": "https://localhost:8080/"
        },
        "id": "EIGD6O2UmbLk",
        "outputId": "54049f7d-6d3e-451c-874f-2fdca000d88f"
      },
      "execution_count": null,
      "outputs": [
        {
          "output_type": "stream",
          "name": "stdout",
          "text": [
            "Please input the number of hours parked: 3\n",
            "Fee: 12.5$\n"
          ]
        }
      ]
    }
  ]
}
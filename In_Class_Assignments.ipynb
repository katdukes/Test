{
  "nbformat": 4,
  "nbformat_minor": 0,
  "metadata": {
    "colab": {
      "provenance": [],
      "authorship_tag": "ABX9TyO87Y508Lku1Kzom0NsBD2R",
      "include_colab_link": true
    },
    "kernelspec": {
      "name": "python3",
      "display_name": "Python 3"
    },
    "language_info": {
      "name": "python"
    }
  },
  "cells": [
    {
      "cell_type": "markdown",
      "metadata": {
        "id": "view-in-github",
        "colab_type": "text"
      },
      "source": [
        "<a href=\"https://colab.research.google.com/github/katdukes/Test/blob/main/In_Class_Assignments.ipynb\" target=\"_parent\"><img src=\"https://colab.research.google.com/assets/colab-badge.svg\" alt=\"Open In Colab\"/></a>"
      ]
    },
    {
      "cell_type": "code",
      "execution_count": null,
      "metadata": {
        "colab": {
          "base_uri": "https://localhost:8080/"
        },
        "id": "8ImKRJKRtoGr",
        "outputId": "e0e81867-4b15-43c6-e843-af88ccd65873"
      },
      "outputs": [
        {
          "output_type": "stream",
          "name": "stdout",
          "text": [
            "Please provide the radius: 5\n",
            "Please provide the height: 6\n",
            "Area of cylinder: 345.4 sq.ft\n"
          ]
        }
      ],
      "source": [
        "# Assignment 1\n",
        "pi = 3.14\n",
        "radius = float(input('Please provide the radius: '))\n",
        "height = float(input('Please provide the height: '))\n",
        "\n",
        "area = 2 * pi * radius **2 + 2 * pi * radius * height\n",
        "print(f'Area of cylinder: {area} sq.ft')"
      ]
    },
    {
      "cell_type": "code",
      "source": [
        "# Assignment 2\n",
        "number_1 = float(input('Please provide the first number: '))\n",
        "number_2 = float(input('Please provide the second number: '))\n",
        "symbol = input('please provide a symbol: ')\n",
        "\n",
        "if symbol == '+':\n",
        "    print(f'{number_1} + {number_2} = {number_1 + number_2}')\n",
        "elif symbol == '-':\n",
        "    print(f'{number_1} - {number_2} = {number_1 - number_2}')\n",
        "elif symbol == '*':\n",
        "    print(f'{number_1} * {number_2} = {number_1 * number_2}')\n",
        "elif symbol == '/':\n",
        "    print(f'{number_1} / {number_2} = {number_1 / number_2}')\n",
        "elif symbol == '%':\n",
        "    print(f'{number_1} % {number_2} = {number_1 % number_2}')\n",
        "elif symbol == '**':\n",
        "    print(f'{number_1} ** {number_2} = {number_1 ** number_2}')\n",
        "elif symbol == '//':\n",
        "    print(f'{number_1} // {number_2} = {number_1 // number_2}')\n",
        "else:\n",
        "    print('Invalid symbol')"
      ],
      "metadata": {
        "colab": {
          "base_uri": "https://localhost:8080/"
        },
        "id": "pbLcit2kr1Pl",
        "outputId": "c4467897-25f2-49ff-b28e-0b1c540c40b1"
      },
      "execution_count": 12,
      "outputs": [
        {
          "output_type": "stream",
          "name": "stdout",
          "text": [
            "Please provide the first number: 8\n",
            "Please provide the second number: 7\n",
            "please provide a symbol: *\n",
            "8.0 * 7.0 = 56.0\n"
          ]
        }
      ]
    }
  ]
}
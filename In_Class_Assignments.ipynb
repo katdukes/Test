{
  "nbformat": 4,
  "nbformat_minor": 0,
  "metadata": {
    "colab": {
      "provenance": [],
      "include_colab_link": true
    },
    "kernelspec": {
      "name": "python3",
      "display_name": "Python 3"
    },
    "language_info": {
      "name": "python"
    }
  },
  "cells": [
    {
      "cell_type": "markdown",
      "metadata": {
        "id": "view-in-github",
        "colab_type": "text"
      },
      "source": [
        "<a href=\"https://colab.research.google.com/github/katdukes/Test/blob/main/In_Class_Assignments.ipynb\" target=\"_parent\"><img src=\"https://colab.research.google.com/assets/colab-badge.svg\" alt=\"Open In Colab\"/></a>"
      ]
    },
    {
      "cell_type": "code",
      "execution_count": null,
      "metadata": {
        "colab": {
          "base_uri": "https://localhost:8080/"
        },
        "id": "8ImKRJKRtoGr",
        "outputId": "e0e81867-4b15-43c6-e843-af88ccd65873"
      },
      "outputs": [
        {
          "output_type": "stream",
          "name": "stdout",
          "text": [
            "Please provide the radius: 5\n",
            "Please provide the height: 6\n",
            "Area of cylinder: 345.4 sq.ft\n"
          ]
        }
      ],
      "source": [
        "# Assignment 1\n",
        "pi = 3.14\n",
        "radius = float(input('Please provide the radius: '))\n",
        "height = float(input('Please provide the height: '))\n",
        "\n",
        "area = 2 * pi * radius **2 + 2 * pi * radius * height\n",
        "print(f'Area of cylinder: {area} sq.ft')"
      ]
    },
    {
      "cell_type": "code",
      "source": [
        "# Assignment 2\n",
        "number_1 = float(input('Please provide the first number: '))\n",
        "number_2 = float(input('Please provide the second number: '))\n",
        "symbol = input('please provide a symbol: ')\n",
        "\n",
        "if symbol == '+':\n",
        "    print(f'{number_1} + {number_2} = {number_1 + number_2}')\n",
        "elif symbol == '-':\n",
        "    print(f'{number_1} - {number_2} = {number_1 - number_2}')\n",
        "elif symbol == '*':\n",
        "    print(f'{number_1} * {number_2} = {number_1 * number_2}')\n",
        "elif symbol == '/':\n",
        "    print(f'{number_1} / {number_2} = {number_1 / number_2}')\n",
        "elif symbol == '%':\n",
        "    print(f'{number_1} % {number_2} = {number_1 % number_2}')\n",
        "elif symbol == '**':\n",
        "    print(f'{number_1} ** {number_2} = {number_1 ** number_2}')\n",
        "elif symbol == '//':\n",
        "    print(f'{number_1} // {number_2} = {number_1 // number_2}')\n",
        "else:\n",
        "    print('Invalid symbol')"
      ],
      "metadata": {
        "colab": {
          "base_uri": "https://localhost:8080/"
        },
        "id": "pbLcit2kr1Pl",
        "outputId": "c4467897-25f2-49ff-b28e-0b1c540c40b1"
      },
      "execution_count": null,
      "outputs": [
        {
          "output_type": "stream",
          "name": "stdout",
          "text": [
            "Please provide the first number: 8\n",
            "Please provide the second number: 7\n",
            "please provide a symbol: *\n",
            "8.0 * 7.0 = 56.0\n"
          ]
        }
      ]
    },
    {
      "cell_type": "code",
      "source": [
        "# Assignment 3\n",
        "for number_hours in range(1, 9):\n",
        "  fee = 5 + 2.5 * number_hours\n",
        "  if fee < 10:\n",
        "    fee = 10.0\n",
        "  elif fee > 20:\n",
        "    fee = 20.0\n",
        "  print(number_hours, fee)"
      ],
      "metadata": {
        "id": "wiAy5ZJ_xr_L",
        "colab": {
          "base_uri": "https://localhost:8080/"
        },
        "outputId": "db2bcbc4-97e7-4b49-bb8d-1f642f2a3b5b"
      },
      "execution_count": null,
      "outputs": [
        {
          "output_type": "stream",
          "name": "stdout",
          "text": [
            "1 10.0\n",
            "2 10.0\n",
            "3 12.5\n",
            "4 15.0\n",
            "5 17.5\n",
            "6 20.0\n",
            "7 20.0\n",
            "8 20.0\n"
          ]
        }
      ]
    },
    {
      "cell_type": "code",
      "source": [
        "# Assignment 4\n",
        "for admoney in range(0, 201, 25):\n",
        "  revenue = (20 + 2 * round(admoney ** .5)) * 10\n",
        "  costs = 200 + admoney\n",
        "  profit = revenue - costs\n",
        "  print(admoney, profit)"
      ],
      "metadata": {
        "colab": {
          "base_uri": "https://localhost:8080/"
        },
        "id": "y7C9f04Gc-kR",
        "outputId": "0ed0cb20-632b-4ed1-a925-e9bf7ce6ecfd"
      },
      "execution_count": null,
      "outputs": [
        {
          "output_type": "stream",
          "name": "stdout",
          "text": [
            "0 0\n",
            "25 75\n",
            "50 90\n",
            "75 105\n",
            "100 100\n",
            "125 95\n",
            "150 90\n",
            "175 85\n",
            "200 80\n"
          ]
        }
      ]
    },
    {
      "cell_type": "code",
      "source": [
        "# Assignment 5\n",
        "import random\n",
        "\n",
        "play = input('do you want to play a game of rock paper scissors (yes/no)? ')\n",
        "\n",
        "while play == 'yes':\n",
        "  player1 = input('player , please select rock, paper, or scissors: ').capitalize()\n",
        "  player2 = random.choice(['rock', 'paper', 'scissors']).capitalize()\n",
        "\n",
        "\n",
        "  print(f'player chooses {player1}; computer chooses {player2}')\n",
        "\n",
        "  if player1 == player2:\n",
        "    print('it is a tie')\n",
        "  elif player1 == 'rock' and player2 == 'scissors':\n",
        "    print('player wins')\n",
        "  elif player1 == 'paper' and player2 == 'rock':\n",
        "    print('player wins')\n",
        "  elif player1 == 'scissors' and player2 == 'paper':\n",
        "    print('player wins')\n",
        "  else:\n",
        "    print('computer wins')\n",
        "\n",
        "  play = input('do you want to play another game of rock paper scissors (yes/no)? ')\n",
        "print('Thanks for playing')"
      ],
      "metadata": {
        "colab": {
          "base_uri": "https://localhost:8080/"
        },
        "id": "moK7lD1NHVLm",
        "outputId": "5a10b23a-a0a8-462b-ac56-764ec938f9ea"
      },
      "execution_count": null,
      "outputs": [
        {
          "output_type": "stream",
          "name": "stdout",
          "text": [
            "do you want to play a game of rock paper scissors (yes/no)? yes\n",
            "player , please select rock, paper, or scissors: scisscor\n",
            "player chooses Scisscor; computer chooses Paper\n",
            "computer wins\n",
            "do you want to play another game of rock paper scissors (yes/no)? no\n",
            "Thanks for playing\n"
          ]
        }
      ]
    },
    {
      "cell_type": "code",
      "source": [
        "# Assignment 6\n",
        "List = []\n",
        "\n",
        "num = float(input(\"please provide a number: \"))\n",
        "\n",
        "while num != 0:\n",
        "  List.append(num)\n",
        "  num = float(input(\"please provide a number: \"))\n",
        "List.sort(reverse=True)\n",
        "print(List)"
      ],
      "metadata": {
        "colab": {
          "base_uri": "https://localhost:8080/"
        },
        "id": "s2-tbgRDPDdP",
        "outputId": "f791d21c-793d-4f74-f214-74c67205dfaf"
      },
      "execution_count": null,
      "outputs": [
        {
          "output_type": "stream",
          "name": "stdout",
          "text": [
            "please provide a number: 3\n",
            "please provide a number: 2\n",
            "please provide a number: 5\n",
            "please provide a number: 6\n",
            "please provide a number: 2\n",
            "please provide a number: 0\n",
            "[6.0, 5.0, 3.0, 2.0, 2.0]\n"
          ]
        }
      ]
    },
    {
      "cell_type": "code",
      "source": [
        "# Assignment 7\n",
        "months = {}\n",
        "names = ['Jan', 'Feb', 'Mar', 'Apr', 'May', 'Jun', 'Jul', 'Aug', 'Sep', 'Oct', 'Nov', 'Dec']\n",
        "numbers = [1, 2, 3, 4, 5, 6, 7, 8, 9, 10, 11, 12]\n",
        "\n",
        "for idx in range(len(numbers)):\n",
        "  months[numbers[idx]] = names[idx]\n",
        "months"
      ],
      "metadata": {
        "colab": {
          "base_uri": "https://localhost:8080/"
        },
        "id": "A9I_UzfCx9Q7",
        "outputId": "6ca5ad9a-f6d3-48da-ef6f-4c6404413815"
      },
      "execution_count": null,
      "outputs": [
        {
          "output_type": "execute_result",
          "data": {
            "text/plain": [
              "{1: 'Jan',\n",
              " 2: 'Feb',\n",
              " 3: 'Mar',\n",
              " 4: 'Apr',\n",
              " 5: 'May',\n",
              " 6: 'Jun',\n",
              " 7: 'Jul',\n",
              " 8: 'Aug',\n",
              " 9: 'Sep',\n",
              " 10: 'Oct',\n",
              " 11: 'Nov',\n",
              " 12: 'Dec'}"
            ]
          },
          "metadata": {},
          "execution_count": 13
        }
      ]
    },
    {
      "cell_type": "code",
      "source": [
        "months = {}\n",
        "names = ['Jan', 'Feb', 'Mar', 'Apr', 'May', 'Jun', 'Jul', 'Aug', 'Sep', 'Oct', 'Nov', 'Dec']\n",
        "numbers = [1, 2, 3, 4, 5, 6, 7, 8, 9, 10, 11, 12]\n",
        "\n",
        "for num in numbers:\n",
        "  months[num] = names[num - 1]\n",
        "months"
      ],
      "metadata": {
        "colab": {
          "base_uri": "https://localhost:8080/"
        },
        "id": "6eWUgmy62Zql",
        "outputId": "9450f366-101d-4168-be05-a1e67b36a98b"
      },
      "execution_count": null,
      "outputs": [
        {
          "output_type": "execute_result",
          "data": {
            "text/plain": [
              "{1: 'Jan',\n",
              " 2: 'Feb',\n",
              " 3: 'Mar',\n",
              " 4: 'Apr',\n",
              " 5: 'May',\n",
              " 6: 'Jun',\n",
              " 7: 'Jul',\n",
              " 8: 'Aug',\n",
              " 9: 'Sep',\n",
              " 10: 'Oct',\n",
              " 11: 'Nov',\n",
              " 12: 'Dec'}"
            ]
          },
          "metadata": {},
          "execution_count": 16
        }
      ]
    },
    {
      "cell_type": "code",
      "source": [
        "# Assignment 8\n",
        "counts = {}\n",
        "\n",
        "while len(counts) < 5:\n",
        "  key = input('Give a string: ')\n",
        "\n",
        "  if key not in counts:\n",
        "    counts[key] = 1\n",
        "  else:\n",
        "    counts[key] += 1\n",
        "counts"
      ],
      "metadata": {
        "colab": {
          "base_uri": "https://localhost:8080/"
        },
        "id": "_hc5RhaW4efJ",
        "outputId": "8ef8a266-d24d-4450-ec80-01c0dafd1c29"
      },
      "execution_count": null,
      "outputs": [
        {
          "name": "stdout",
          "output_type": "stream",
          "text": [
            "Give a string: a\n",
            "Give a string: b\n",
            "Give a string: c\n",
            "Give a string: a\n",
            "Give a string: a\n",
            "Give a string: b\n",
            "Give a string: c\n",
            "Give a string: e\n",
            "Give a string: d\n"
          ]
        },
        {
          "output_type": "execute_result",
          "data": {
            "text/plain": [
              "{'a': 3, 'b': 2, 'c': 2, 'e': 1, 'd': 1}"
            ]
          },
          "metadata": {},
          "execution_count": 17
        }
      ]
    },
    {
      "cell_type": "code",
      "source": [
        "# Assignment 9\n",
        "def calcFee(hours):\n",
        "  fee = 5 + 2.5 * hours\n",
        "  if fee < 10:\n",
        "    fee = 10.0\n",
        "  elif fee > 20:\n",
        "    fee = 20.0\n",
        "  print(f'Fee: {fee}$')\n",
        "\n",
        "hours_parked = int(input('Please input the number of hours parked: '))\n",
        "calcFee(hours_parked)"
      ],
      "metadata": {
        "colab": {
          "base_uri": "https://localhost:8080/"
        },
        "id": "EIGD6O2UmbLk",
        "outputId": "54049f7d-6d3e-451c-874f-2fdca000d88f"
      },
      "execution_count": null,
      "outputs": [
        {
          "output_type": "stream",
          "name": "stdout",
          "text": [
            "Please input the number of hours parked: 3\n",
            "Fee: 12.5$\n"
          ]
        }
      ]
    },
    {
      "cell_type": "code",
      "source": [
        "# Assignment 10\n",
        "\n",
        "def reverse(s):\n",
        "  if len(s) <= 1:\n",
        "    return s\n",
        "  else:\n",
        "    #return s[-1] + reverse(s[:-1])\n",
        "    #return s[-1] + reverse(s[1:-1]) + s[0]\n",
        "    return reverse(s[1:]) + s[0]\n",
        "\n",
        "reverse('Hello')"
      ],
      "metadata": {
        "colab": {
          "base_uri": "https://localhost:8080/",
          "height": 35
        },
        "id": "uSasdYsX4SD3",
        "outputId": "7497aa13-089f-4d81-fc87-31746fb1495f"
      },
      "execution_count": null,
      "outputs": [
        {
          "output_type": "execute_result",
          "data": {
            "text/plain": [
              "'olleH'"
            ],
            "application/vnd.google.colaboratory.intrinsic+json": {
              "type": "string"
            }
          },
          "metadata": {},
          "execution_count": 5
        }
      ]
    },
    {
      "cell_type": "code",
      "source": [
        "def calcFee(hours):\n",
        "  try:\n",
        "   fee = 5 + 2.5 * hours\n",
        "   if fee < 10:\n",
        "    fee = 10.0\n",
        "   elif fee > 20:\n",
        "    fee = 20.0\n",
        "    print(f'Fee: {fee}$')\n",
        "  except:\n",
        "    print('Round to the nearest hour')\n",
        "def main():\n",
        "  hours_parked = (input('Please input the number of hours parked: '))\n",
        "  calcFee(hours_parked)\n",
        "if __name__ == '__main__':\n",
        "  main()"
      ],
      "metadata": {
        "colab": {
          "base_uri": "https://localhost:8080/"
        },
        "id": "NYcZUwloR7dC",
        "outputId": "d8d5f438-aaae-46cc-bb44-33d831f67c7c"
      },
      "execution_count": null,
      "outputs": [
        {
          "output_type": "stream",
          "name": "stdout",
          "text": [
            "Please input the number of hours parked: 4.5\n",
            "Round to the nearest hour\n"
          ]
        }
      ]
    },
    {
      "cell_type": "code",
      "source": [
        "def getValues(n):\n",
        "  values = []\n",
        "  for _ in range(n):\n",
        "    value = float(input(\"Enter weight: \"))\n",
        "    values.append(value)\n",
        "  return values\n",
        "\n",
        "def calcAverage(alist):\n",
        "  if len(alist) < 3:\n",
        "    return 0\n",
        "\n",
        "  relevant_values = alist[2:]\n",
        "  if not relevant_values:\n",
        "    return 0\n",
        "\n",
        "  return sum(relevant_values) / len(relevant_values)\n",
        "\n",
        "num_values = int(input(\"Enter the number of weights: \"))\n",
        "\n",
        "values_list = getValues(num_values)\n",
        "average = calcAverage(values_list)\n",
        "print(\"The average is (excluding the first two values):\", average)"
      ],
      "metadata": {
        "id": "CV0lLTRaWdbW"
      },
      "execution_count": null,
      "outputs": []
    },
    {
      "cell_type": "code",
      "source": [
        "class Greeting:\n",
        "  def __init__(self, first, last):\n",
        "    self.first = first\n",
        "    self.last = last\n",
        "\n",
        "  def display(self, formal = False):\n",
        "    if formal:\n",
        "      print(f'Hi {self.first} {self.last}')\n",
        "    else:\n",
        "      print(f'Hi {self.first}')\n",
        "\n",
        "  def __str__(self):\n",
        "    return f'{self.first} {self.last}'\n",
        "\n",
        "  def __repr__(self):\n",
        "    return f'{self.first} {self.last}'\n"
      ],
      "metadata": {
        "id": "vq49PZZ1YHqR"
      },
      "execution_count": 18,
      "outputs": []
    },
    {
      "cell_type": "code",
      "source": [
        "g = Greeting('Donald', 'Becker')"
      ],
      "metadata": {
        "id": "s7HpTgPZY8ig"
      },
      "execution_count": 19,
      "outputs": []
    },
    {
      "cell_type": "code",
      "source": [
        "g.display(formal = True)\n",
        "print(g)"
      ],
      "metadata": {
        "colab": {
          "base_uri": "https://localhost:8080/"
        },
        "id": "Fg3noBjfZm8V",
        "outputId": "9931b53a-8646-4b4f-b2d0-e6f11f354e3a"
      },
      "execution_count": 23,
      "outputs": [
        {
          "output_type": "stream",
          "name": "stdout",
          "text": [
            "Hi Donald Becker\n",
            "Donald Becker\n"
          ]
        }
      ]
    }
  ]
}
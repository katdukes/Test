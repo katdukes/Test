{
  "nbformat": 4,
  "nbformat_minor": 0,
  "metadata": {
    "colab": {
      "provenance": [],
      "authorship_tag": "ABX9TyPyoneFKMA8izai1VfOr/SW",
      "include_colab_link": true
    },
    "kernelspec": {
      "name": "python3",
      "display_name": "Python 3"
    },
    "language_info": {
      "name": "python"
    }
  },
  "cells": [
    {
      "cell_type": "markdown",
      "metadata": {
        "id": "view-in-github",
        "colab_type": "text"
      },
      "source": [
        "<a href=\"https://colab.research.google.com/github/katdukes/Test/blob/main/In_Class_Assignments.ipynb\" target=\"_parent\"><img src=\"https://colab.research.google.com/assets/colab-badge.svg\" alt=\"Open In Colab\"/></a>"
      ]
    },
    {
      "cell_type": "code",
      "execution_count": null,
      "metadata": {
        "colab": {
          "base_uri": "https://localhost:8080/"
        },
        "id": "8ImKRJKRtoGr",
        "outputId": "e0e81867-4b15-43c6-e843-af88ccd65873"
      },
      "outputs": [
        {
          "output_type": "stream",
          "name": "stdout",
          "text": [
            "Please provide the radius: 5\n",
            "Please provide the height: 6\n",
            "Area of cylinder: 345.4 sq.ft\n"
          ]
        }
      ],
      "source": [
        "# Assignment 1\n",
        "pi = 3.14\n",
        "radius = float(input('Please provide the radius: '))\n",
        "height = float(input('Please provide the height: '))\n",
        "\n",
        "area = 2 * pi * radius **2 + 2 * pi * radius * height\n",
        "print(f'Area of cylinder: {area} sq.ft')"
      ]
    },
    {
      "cell_type": "code",
      "source": [
        "# Assignment 2\n",
        "number_1 = float(input('Please provide the first number: '))\n",
        "number_2 = float(input('Please provide the second number: '))\n",
        "symbol = input('please provide a symbol: ')\n",
        "\n",
        "if symbol == '+':\n",
        "    print(f'{number_1} + {number_2} = {number_1 + number_2}')\n",
        "elif symbol == '-':\n",
        "    print(f'{number_1} - {number_2} = {number_1 - number_2}')\n",
        "elif symbol == '*':\n",
        "    print(f'{number_1} * {number_2} = {number_1 * number_2}')\n",
        "elif symbol == '/':\n",
        "    print(f'{number_1} / {number_2} = {number_1 / number_2}')\n",
        "elif symbol == '%':\n",
        "    print(f'{number_1} % {number_2} = {number_1 % number_2}')\n",
        "elif symbol == '**':\n",
        "    print(f'{number_1} ** {number_2} = {number_1 ** number_2}')\n",
        "elif symbol == '//':\n",
        "    print(f'{number_1} // {number_2} = {number_1 // number_2}')\n",
        "else:\n",
        "    print('Invalid symbol')"
      ],
      "metadata": {
        "colab": {
          "base_uri": "https://localhost:8080/"
        },
        "id": "pbLcit2kr1Pl",
        "outputId": "c4467897-25f2-49ff-b28e-0b1c540c40b1"
      },
      "execution_count": null,
      "outputs": [
        {
          "output_type": "stream",
          "name": "stdout",
          "text": [
            "Please provide the first number: 8\n",
            "Please provide the second number: 7\n",
            "please provide a symbol: *\n",
            "8.0 * 7.0 = 56.0\n"
          ]
        }
      ]
    },
    {
      "cell_type": "code",
      "source": [
        "# Assignment 3\n",
        "for number_hours in range(1, 9):\n",
        "  fee = 5 + 2.5 * number_hours\n",
        "  if fee < 10:\n",
        "    fee = 10.0\n",
        "  elif fee > 20:\n",
        "    fee = 20.0\n",
        "  print(number_hours, fee)"
      ],
      "metadata": {
        "id": "wiAy5ZJ_xr_L",
        "colab": {
          "base_uri": "https://localhost:8080/"
        },
        "outputId": "db2bcbc4-97e7-4b49-bb8d-1f642f2a3b5b"
      },
      "execution_count": null,
      "outputs": [
        {
          "output_type": "stream",
          "name": "stdout",
          "text": [
            "1 10.0\n",
            "2 10.0\n",
            "3 12.5\n",
            "4 15.0\n",
            "5 17.5\n",
            "6 20.0\n",
            "7 20.0\n",
            "8 20.0\n"
          ]
        }
      ]
    },
    {
      "cell_type": "code",
      "source": [
        "# Assignment 4\n",
        "for admoney in range(0, 201, 25):\n",
        "  revenue = (20 + 2 * round(admoney ** .5)) * 10\n",
        "  costs = 200 + admoney\n",
        "  profit = revenue - costs\n",
        "  print(admoney, profit)"
      ],
      "metadata": {
        "colab": {
          "base_uri": "https://localhost:8080/"
        },
        "id": "y7C9f04Gc-kR",
        "outputId": "0ed0cb20-632b-4ed1-a925-e9bf7ce6ecfd"
      },
      "execution_count": null,
      "outputs": [
        {
          "output_type": "stream",
          "name": "stdout",
          "text": [
            "0 0\n",
            "25 75\n",
            "50 90\n",
            "75 105\n",
            "100 100\n",
            "125 95\n",
            "150 90\n",
            "175 85\n",
            "200 80\n"
          ]
        }
      ]
    },
    {
      "cell_type": "code",
      "source": [
        "# Assignment 5\n",
        "import random\n",
        "\n",
        "play = input('do you want to play a game of rock paper scissors (yes/no)? ')\n",
        "\n",
        "while play == 'yes':\n",
        "  player1 = input('player , please select rock, paper, or scissors: ').capitalize()\n",
        "  player2 = random.choice(['rock', 'paper', 'scissors']).capitalize()\n",
        "\n",
        "\n",
        "  print(f'player chooses {player1}; computer chooses {player2}')\n",
        "\n",
        "  if player1 == player2:\n",
        "    print('it is a tie')\n",
        "  elif player1 == 'rock' and player2 == 'scissors':\n",
        "    print('player wins')\n",
        "  elif player1 == 'paper' and player2 == 'rock':\n",
        "    print('player wins')\n",
        "  elif player1 == 'scissors' and player2 == 'paper':\n",
        "    print('player wins')\n",
        "  else:\n",
        "    print('computer wins')\n",
        "\n",
        "  play = input('do you want to play another game of rock paper scissors (yes/no)? ')\n",
        "print('Thanks for playing')"
      ],
      "metadata": {
        "colab": {
          "base_uri": "https://localhost:8080/"
        },
        "id": "moK7lD1NHVLm",
        "outputId": "1c033486-82bd-4a04-e0ea-217b86d9fd14"
      },
      "execution_count": null,
      "outputs": [
        {
          "output_type": "stream",
          "name": "stdout",
          "text": [
            "do you want to play a game of rock paper scissors (yes/no)? yes\n",
            "player , please select rock, paper, or scissors: rock\n",
            "player chooses Rock; computer chooses Paper\n",
            "computer wins\n",
            "do you want to play another game of rock paper scissors (yes/no)? yes\n",
            "player , please select rock, paper, or scissors: scissors\n",
            "player chooses Scissors; computer chooses Scissors\n",
            "it is a tie\n",
            "do you want to play another game of rock paper scissors (yes/no)? yes\n",
            "player , please select rock, paper, or scissors: paper\n",
            "player chooses Paper; computer chooses Paper\n",
            "it is a tie\n",
            "do you want to play another game of rock paper scissors (yes/no)? no\n",
            "Thanks for playing\n"
          ]
        }
      ]
    },
    {
      "cell_type": "code",
      "source": [
        "# Assignment 6\n",
        "List = []\n",
        "\n",
        "num = float(input(\"please provide a number: \"))\n",
        "\n",
        "while num != 0:\n",
        "  List.append(num)\n",
        "  num = float(input(\"please provide a number: \"))\n",
        "List.sort(reverse=True)\n",
        "print(List)"
      ],
      "metadata": {
        "colab": {
          "base_uri": "https://localhost:8080/"
        },
        "id": "s2-tbgRDPDdP",
        "outputId": "f791d21c-793d-4f74-f214-74c67205dfaf"
      },
      "execution_count": 15,
      "outputs": [
        {
          "output_type": "stream",
          "name": "stdout",
          "text": [
            "please provide a number: 3\n",
            "please provide a number: 2\n",
            "please provide a number: 5\n",
            "please provide a number: 6\n",
            "please provide a number: 2\n",
            "please provide a number: 0\n",
            "[6.0, 5.0, 3.0, 2.0, 2.0]\n"
          ]
        }
      ]
    }
  ]
}